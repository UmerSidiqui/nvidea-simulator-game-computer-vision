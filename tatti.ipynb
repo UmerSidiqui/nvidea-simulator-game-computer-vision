{
 "cells": [
  {
   "cell_type": "code",
   "execution_count": 1,
   "metadata": {},
   "outputs": [
    {
     "name": "stdout",
     "output_type": "stream",
     "text": [
      "WARNING:tensorflow:From c:\\Users\\umer\\AppData\\Local\\Programs\\Python\\Python311\\Lib\\site-packages\\tensorflow\\python\\ops\\distributions\\distribution.py:259: ReparameterizationType.__init__ (from tensorflow.python.ops.distributions.distribution) is deprecated and will be removed after 2019-01-01.\n",
      "Instructions for updating:\n",
      "The TensorFlow Distributions library has moved to TensorFlow Probability (https://github.com/tensorflow/probability). You should update all references to use `tfp.distributions` instead of `tf.distributions`.\n",
      "WARNING:tensorflow:From c:\\Users\\umer\\AppData\\Local\\Programs\\Python\\Python311\\Lib\\site-packages\\tensorflow\\python\\ops\\distributions\\bernoulli.py:165: RegisterKL.__init__ (from tensorflow.python.ops.distributions.kullback_leibler) is deprecated and will be removed after 2019-01-01.\n",
      "Instructions for updating:\n",
      "The TensorFlow Distributions library has moved to TensorFlow Probability (https://github.com/tensorflow/probability). You should update all references to use `tfp.distributions` instead of `tf.distributions`.\n"
     ]
    }
   ],
   "source": [
    "import numpy as np\n",
    "import cv2\n",
    "import pandas as pd\n",
    "import tensorflow\n",
    "import os\n",
    "import matplotlib\n",
    "\n",
    "\n",
    "\n"
   ]
  },
  {
   "cell_type": "code",
   "execution_count": 2,
   "metadata": {},
   "outputs": [],
   "source": [
    "def importDataInfo():\n",
    "    columns=['centre','left','right','steering','throttle','brake','speed']\n",
    "    data=pd.read_csv(\"driving_log.csv\",names=columns)\n",
    "    return data"
   ]
  },
  {
   "cell_type": "code",
   "execution_count": 3,
   "metadata": {},
   "outputs": [],
   "source": [
    "\n",
    "\n",
    "data=importDataInfo()"
   ]
  },
  {
   "cell_type": "code",
   "execution_count": 4,
   "metadata": {},
   "outputs": [
    {
     "data": {
      "text/plain": [
       "'C:\\\\Users\\\\umer\\\\Documents\\\\game data\\\\IMG\\\\center_2024_03_18_23_14_14_648.jpg'"
      ]
     },
     "execution_count": 4,
     "metadata": {},
     "output_type": "execute_result"
    }
   ],
   "source": [
    "data['centre'][0]"
   ]
  },
  {
   "cell_type": "code",
   "execution_count": 5,
   "metadata": {},
   "outputs": [
    {
     "data": {
      "text/plain": [
       "0       0.0\n",
       "1       0.0\n",
       "2       0.0\n",
       "3       0.0\n",
       "4       0.0\n",
       "       ... \n",
       "6041    0.0\n",
       "6042    0.0\n",
       "6043    0.0\n",
       "6044    0.0\n",
       "6045    0.0\n",
       "Name: steering, Length: 6046, dtype: float64"
      ]
     },
     "execution_count": 5,
     "metadata": {},
     "output_type": "execute_result"
    }
   ],
   "source": [
    "data.steering"
   ]
  },
  {
   "cell_type": "code",
   "execution_count": 6,
   "metadata": {},
   "outputs": [],
   "source": [
    "# a=cv2.imread(data['centre'][0])\n",
    "# print(a)\n",
    "# cv2.imshow(\"win\",a)\n",
    "# cv2.waitKey(0)"
   ]
  },
  {
   "cell_type": "code",
   "execution_count": 7,
   "metadata": {},
   "outputs": [
    {
     "data": {
      "text/plain": [
       "'C:\\\\Users\\\\umer\\\\Documents\\\\game data\\\\IMG\\\\center_2024_03_18_23_14_14_648.jpg'"
      ]
     },
     "execution_count": 7,
     "metadata": {},
     "output_type": "execute_result"
    }
   ],
   "source": [
    "data.centre[0]"
   ]
  },
  {
   "cell_type": "code",
   "execution_count": 8,
   "metadata": {},
   "outputs": [
    {
     "data": {
      "text/plain": [
       "(6046,)"
      ]
     },
     "execution_count": 8,
     "metadata": {},
     "output_type": "execute_result"
    }
   ],
   "source": [
    "data.steering.shape"
   ]
  },
  {
   "cell_type": "code",
   "execution_count": 9,
   "metadata": {},
   "outputs": [
    {
     "data": {
      "text/plain": [
       "(6046, 7)"
      ]
     },
     "execution_count": 9,
     "metadata": {},
     "output_type": "execute_result"
    }
   ],
   "source": [
    "data.shape"
   ]
  },
  {
   "cell_type": "code",
   "execution_count": 19,
   "metadata": {},
   "outputs": [],
   "source": [
    "train_images=[]\n",
    "train_labels=[]\n",
    "for i in range(6046):\n",
    "    a=cv2.imread(data.centre[i])\n",
    "    a=cv2.resize(a,(200,66))\n",
    "    train_images.append(a)\n",
    "    train_labels.append(data.steering[i])\n"
   ]
  },
  {
   "cell_type": "code",
   "execution_count": 20,
   "metadata": {},
   "outputs": [
    {
     "data": {
      "text/plain": [
       "6046"
      ]
     },
     "execution_count": 20,
     "metadata": {},
     "output_type": "execute_result"
    }
   ],
   "source": [
    "len(train_images)"
   ]
  },
  {
   "cell_type": "code",
   "execution_count": 21,
   "metadata": {},
   "outputs": [],
   "source": [
    "train_images=np.array(train_images)\n",
    "train_labels=np.array(train_labels)"
   ]
  },
  {
   "cell_type": "code",
   "execution_count": 22,
   "metadata": {},
   "outputs": [
    {
     "data": {
      "text/plain": [
       "(6046,)"
      ]
     },
     "execution_count": 22,
     "metadata": {},
     "output_type": "execute_result"
    }
   ],
   "source": [
    "train_labels.shape\n"
   ]
  },
  {
   "cell_type": "code",
   "execution_count": 23,
   "metadata": {},
   "outputs": [
    {
     "data": {
      "text/plain": [
       "(6046, 66, 200, 3)"
      ]
     },
     "execution_count": 23,
     "metadata": {},
     "output_type": "execute_result"
    }
   ],
   "source": [
    "train_images.shape"
   ]
  },
  {
   "cell_type": "code",
   "execution_count": 24,
   "metadata": {},
   "outputs": [
    {
     "data": {
      "text/plain": [
       "(66, 200, 3)"
      ]
     },
     "execution_count": 24,
     "metadata": {},
     "output_type": "execute_result"
    }
   ],
   "source": [
    "train_images[1].shape"
   ]
  },
  {
   "cell_type": "code",
   "execution_count": 23,
   "metadata": {},
   "outputs": [
    {
     "ename": "error",
     "evalue": "OpenCV(4.9.0) :-1: error: (-5:Bad argument) in function 'resize'\n> Overload resolution failed:\n>  - Can't parse 'dsize'. Expected sequence length 2, got 3\n>  - Can't parse 'dsize'. Expected sequence length 2, got 3\n",
     "output_type": "error",
     "traceback": [
      "\u001b[1;31m---------------------------------------------------------------------------\u001b[0m",
      "\u001b[1;31merror\u001b[0m                                     Traceback (most recent call last)",
      "Cell \u001b[1;32mIn[23], line 1\u001b[0m\n\u001b[1;32m----> 1\u001b[0m \u001b[43mcv2\u001b[49m\u001b[38;5;241;43m.\u001b[39;49m\u001b[43mresize\u001b[49m\u001b[43m(\u001b[49m\u001b[43mtrain_images\u001b[49m\u001b[43m,\u001b[49m\u001b[43m(\u001b[49m\u001b[38;5;241;43m66\u001b[39;49m\u001b[43m,\u001b[49m\u001b[38;5;241;43m200\u001b[39;49m\u001b[43m,\u001b[49m\u001b[38;5;241;43m3\u001b[39;49m\u001b[43m)\u001b[49m\u001b[43m)\u001b[49m\n",
      "\u001b[1;31merror\u001b[0m: OpenCV(4.9.0) :-1: error: (-5:Bad argument) in function 'resize'\n> Overload resolution failed:\n>  - Can't parse 'dsize'. Expected sequence length 2, got 3\n>  - Can't parse 'dsize'. Expected sequence length 2, got 3\n"
     ]
    }
   ],
   "source": []
  },
  {
   "cell_type": "code",
   "execution_count": 25,
   "metadata": {},
   "outputs": [
    {
     "data": {
      "text/plain": [
       "(array([   9,   37,   76,  328,  474, 4843,  185,   44,   30,   20],\n",
       "       dtype=int64),\n",
       " array([-1. , -0.8, -0.6, -0.4, -0.2,  0. ,  0.2,  0.4,  0.6,  0.8,  1. ]))"
      ]
     },
     "execution_count": 25,
     "metadata": {},
     "output_type": "execute_result"
    }
   ],
   "source": [
    "np.histogram(data[\"steering\"])"
   ]
  },
  {
   "cell_type": "code",
   "execution_count": 26,
   "metadata": {},
   "outputs": [],
   "source": [
    "from tensorflow.keras.models import Sequential\n",
    "from tensorflow.keras.layers import Convolution2D,Flatten,Dense"
   ]
  },
  {
   "cell_type": "code",
   "execution_count": 27,
   "metadata": {},
   "outputs": [],
   "source": [
    "model=Sequential()\n",
    "model.add(Convolution2D(24,(5,5),(2,2),input_shape=(66,200,3),activation='elu'))\n",
    "model.add(Convolution2D(36,(5,5),(2,2),activation='elu'))\n",
    "model.add(Convolution2D(48,(5,5),(2,2),activation='elu'))\n",
    "model.add(Convolution2D(64,(3,3),activation='elu'))\n",
    "model.add(Convolution2D(64,(3,3),activation='elu'))\n",
    "\n",
    "model.add(Flatten())\n",
    "model.add (Dense(100,activation='elu'))\n",
    "model.add (Dense(50,activation='elu'))\n",
    "model.add (Dense(10,activation='elu'))\n",
    "model.add (Dense(1))\n",
    "\n",
    "optimizer = tensorflow.keras.optimizers.Adam(learning_rate=0.0001)\n",
    "model.compile(optimizer=optimizer, loss='mse', metrics=['accuracy'])\n"
   ]
  },
  {
   "cell_type": "code",
   "execution_count": 29,
   "metadata": {},
   "outputs": [
    {
     "name": "stdout",
     "output_type": "stream",
     "text": [
      "Model: \"sequential\"\n",
      "_________________________________________________________________\n",
      " Layer (type)                Output Shape              Param #   \n",
      "=================================================================\n",
      " conv2d (Conv2D)             (None, 31, 98, 24)        1824      \n",
      "                                                                 \n",
      " conv2d_1 (Conv2D)           (None, 14, 47, 36)        21636     \n",
      "                                                                 \n",
      " conv2d_2 (Conv2D)           (None, 5, 22, 48)         43248     \n",
      "                                                                 \n",
      " conv2d_3 (Conv2D)           (None, 3, 20, 64)         27712     \n",
      "                                                                 \n",
      " conv2d_4 (Conv2D)           (None, 1, 18, 64)         36928     \n",
      "                                                                 \n",
      " flatten (Flatten)           (None, 1152)              0         \n",
      "                                                                 \n",
      " dense (Dense)               (None, 100)               115300    \n",
      "                                                                 \n",
      " dense_1 (Dense)             (None, 50)                5050      \n",
      "                                                                 \n",
      " dense_2 (Dense)             (None, 10)                510       \n",
      "                                                                 \n",
      " dense_3 (Dense)             (None, 1)                 11        \n",
      "                                                                 \n",
      "=================================================================\n",
      "Total params: 252219 (985.23 KB)\n",
      "Trainable params: 252219 (985.23 KB)\n",
      "Non-trainable params: 0 (0.00 Byte)\n",
      "_________________________________________________________________\n"
     ]
    }
   ],
   "source": [
    "model.summary()"
   ]
  },
  {
   "cell_type": "code",
   "execution_count": 31,
   "metadata": {},
   "outputs": [
    {
     "name": "stdout",
     "output_type": "stream",
     "text": [
      "Epoch 1/10\n",
      "28/28 [==============================] - 32s 1s/step - loss: 0.1159 - accuracy: 0.6883 - val_loss: 0.1227 - val_accuracy: 0.7091\n",
      "Epoch 2/10\n",
      "28/28 [==============================] - 29s 1s/step - loss: 0.0953 - accuracy: 0.6995 - val_loss: 0.1061 - val_accuracy: 0.7289\n",
      "Epoch 3/10\n",
      "28/28 [==============================] - 28s 1s/step - loss: 0.0813 - accuracy: 0.7045 - val_loss: 0.0928 - val_accuracy: 0.7488\n",
      "Epoch 4/10\n",
      "28/28 [==============================] - 34s 1s/step - loss: 0.0706 - accuracy: 0.7100 - val_loss: 0.0825 - val_accuracy: 0.7587\n",
      "Epoch 5/10\n",
      "28/28 [==============================] - 43s 2s/step - loss: 0.0620 - accuracy: 0.7146 - val_loss: 0.0746 - val_accuracy: 0.7702\n",
      "Epoch 6/10\n",
      "28/28 [==============================] - 41s 1s/step - loss: 0.0549 - accuracy: 0.7173 - val_loss: 0.0687 - val_accuracy: 0.7686\n",
      "Epoch 7/10\n",
      "28/28 [==============================] - 56s 2s/step - loss: 0.0497 - accuracy: 0.7203 - val_loss: 0.0635 - val_accuracy: 0.7702\n",
      "Epoch 8/10\n",
      "28/28 [==============================] - 39s 1s/step - loss: 0.0456 - accuracy: 0.7214 - val_loss: 0.0599 - val_accuracy: 0.7719\n",
      "Epoch 9/10\n",
      "28/28 [==============================] - 34s 1s/step - loss: 0.0419 - accuracy: 0.7223 - val_loss: 0.0570 - val_accuracy: 0.7719\n",
      "Epoch 10/10\n",
      "28/28 [==============================] - 34s 1s/step - loss: 0.0389 - accuracy: 0.7230 - val_loss: 0.0521 - val_accuracy: 0.7719\n"
     ]
    },
    {
     "data": {
      "text/plain": [
       "<keras.src.callbacks.History at 0x1e27cbaa850>"
      ]
     },
     "execution_count": 31,
     "metadata": {},
     "output_type": "execute_result"
    }
   ],
   "source": [
    "model.fit(train_images,train_labels,batch_size=200,epochs=10,validation_split=0.1)"
   ]
  },
  {
   "cell_type": "code",
   "execution_count": 32,
   "metadata": {},
   "outputs": [
    {
     "name": "stderr",
     "output_type": "stream",
     "text": [
      "c:\\Users\\umer\\AppData\\Local\\Programs\\Python\\Python311\\Lib\\site-packages\\keras\\src\\engine\\training.py:3078: UserWarning: You are saving your model as an HDF5 file via `model.save()`. This file format is considered legacy. We recommend using instead the native Keras format, e.g. `model.save('my_model.keras')`.\n",
      "  saving_api.save_model(\n"
     ]
    }
   ],
   "source": [
    "model.save('model.h5')"
   ]
  },
  {
   "cell_type": "code",
   "execution_count": 13,
   "metadata": {},
   "outputs": [],
   "source": [
    "from tensorflow.keras.models import load_model\n",
    "model=load_model('model.h5')"
   ]
  },
  {
   "cell_type": "code",
   "execution_count": 14,
   "metadata": {},
   "outputs": [],
   "source": [
    "import eventlet\n",
    "from flask import Flask\n",
    "import socketio\n",
    "from io import BytesIO\n",
    "import base64"
   ]
  },
  {
   "cell_type": "code",
   "execution_count": 15,
   "metadata": {},
   "outputs": [],
   "source": [
    "def preeprocess(img):\n",
    "    img=img[60:135,:,:]\n",
    "    img=cv2.cvtColor(img,cv2.COLOR_RGB2YUV)\n",
    "    img=cv2.GaussianBlur(img,(3,3),0)\n",
    "    img=cv2.resize(img,(200,66))\n",
    "    img=img/255\n",
    "    return img"
   ]
  },
  {
   "cell_type": "code",
   "execution_count": null,
   "metadata": {},
   "outputs": [],
   "source": []
  },
  {
   "cell_type": "code",
   "execution_count": 16,
   "metadata": {},
   "outputs": [],
   "source": [
    "sio = socketio.Server()\n",
    "app=Flask(__name__)\n",
    "maxspeed=10\n",
    "@sio.on('telemetry')\n",
    "def telemetry(sid,data):\n",
    "    speed=float(data['speed'])\n",
    "    image=Image.open(BytesIO(base64.b64decode(data['image'])))\n",
    "    image=np.asarray(image)\n",
    "    image=preeprocess(image)\n",
    "    image=np.array([image])\n",
    "    steering=float(model.predict(image))\n",
    "    throttle=1-speed/maxspeed\n",
    "    print('{}{}{}'.format(steering,throttle,speed))\n",
    "    sendcontrol(steering,throttle)"
   ]
  },
  {
   "cell_type": "code",
   "execution_count": 17,
   "metadata": {},
   "outputs": [],
   "source": [
    "@sio.on('connect')\n",
    "def connect(sid,environ):\n",
    "    print('connected')\n",
    "    sendcontrol(0,0)"
   ]
  },
  {
   "cell_type": "code",
   "execution_count": 8,
   "metadata": {},
   "outputs": [],
   "source": [
    "def sendcontrol(steering,throttle):\n",
    "    sio.emit('steer' ,data={\n",
    "        'steering_angle':steering.__str__(),\n",
    "        'throttle':throttle.__str__()\n",
    "    }\n",
    "    )"
   ]
  },
  {
   "cell_type": "code",
   "execution_count": 12,
   "metadata": {},
   "outputs": [
    {
     "name": "stderr",
     "output_type": "stream",
     "text": [
      "(13420) wsgi starting up on http://0.0.0.0:4567\n",
      "(13420) accepted ('127.0.0.1', 55296)\n",
      "wsgi exiting\n",
      "127.0.0.1 - - [19/Mar/2024 04:27:59] \"GET /socket.io/?EIO=4&transport=websocket HTTP/1.1\" 200 0 80.044063\n",
      "(13420) wsgi exited, is_accepting=True\n"
     ]
    }
   ],
   "source": [
    "app=socketio.Middleware(sio,app)\n",
    "eventlet.wsgi.server(eventlet.listen(('',4567) ),app)"
   ]
  },
  {
   "cell_type": "code",
   "execution_count": 1,
   "metadata": {},
   "outputs": [
    {
     "name": "stdout",
     "output_type": "stream",
     "text": [
      "Setting UP\n",
      "WARNING:tensorflow:From c:\\Users\\umer\\AppData\\Local\\Programs\\Python\\Python311\\Lib\\site-packages\\tensorflow\\python\\ops\\distributions\\distribution.py:259: ReparameterizationType.__init__ (from tensorflow.python.ops.distributions.distribution) is deprecated and will be removed after 2019-01-01.\n",
      "Instructions for updating:\n",
      "The TensorFlow Distributions library has moved to TensorFlow Probability (https://github.com/tensorflow/probability). You should update all references to use `tfp.distributions` instead of `tf.distributions`.\n",
      "WARNING:tensorflow:From c:\\Users\\umer\\AppData\\Local\\Programs\\Python\\Python311\\Lib\\site-packages\\tensorflow\\python\\ops\\distributions\\bernoulli.py:165: RegisterKL.__init__ (from tensorflow.python.ops.distributions.kullback_leibler) is deprecated and will be removed after 2019-01-01.\n",
      "Instructions for updating:\n",
      "The TensorFlow Distributions library has moved to TensorFlow Probability (https://github.com/tensorflow/probability). You should update all references to use `tfp.distributions` instead of `tf.distributions`.\n"
     ]
    },
    {
     "name": "stderr",
     "output_type": "stream",
     "text": [
      "(12132) wsgi starting up on http://0.0.0.0:4567\n",
      "(12132) accepted ('127.0.0.1', 55486)\n",
      "127.0.0.1 - - [19/Mar/2024 04:33:13] \"GET /socket.io/?EIO=4&transport=websocket HTTP/1.1\" 200 0 110.140074\n"
     ]
    }
   ],
   "source": [
    "print('Setting UP')\n",
    "import os\n",
    "os.environ['TF_CPP_MIN_LOG_LEVEL'] = '3'\n",
    "import socketio\n",
    "import eventlet\n",
    "import numpy as np\n",
    "from flask import Flask\n",
    "from tensorflow.keras.models import load_model\n",
    "import base64\n",
    "from io import BytesIO\n",
    "from PIL import Image\n",
    "import cv2\n",
    " \n",
    "#### FOR REAL TIME COMMUNICATION BETWEEN CLIENT AND SERVER\n",
    "sio = socketio.Server()\n",
    "#### FLASK IS A MICRO WEB FRAMEWORK WRITTEN IN PYTHON\n",
    "app = Flask(__name__)  # '__main__'\n",
    " \n",
    "maxSpeed = 10\n",
    " \n",
    " \n",
    "def preProcess(img):\n",
    "    img = img[60:135,:,:]\n",
    "    img = cv2.cvtColor(img, cv2.COLOR_RGB2YUV)\n",
    "    img = cv2.GaussianBlur(img,  (3, 3), 0)\n",
    "    img = cv2.resize(img, (200, 66))\n",
    "    img = img/255\n",
    "    return img\n",
    " \n",
    " \n",
    "@sio.on('telemetry')\n",
    "def telemetry(sid, data):\n",
    "    speed = float(data['speed'])\n",
    "    image = Image.open(BytesIO(base64.b64decode(data['image'])))\n",
    "    image = np.asarray(image)\n",
    "    image = preProcess(image)\n",
    "    image = np.array([image])\n",
    "    steering = float(model.predict(image))\n",
    "    throttle = 1.0 - speed / maxSpeed\n",
    "    print(f'{steering}, {throttle}, {speed}')\n",
    "    sendControl(steering, throttle)\n",
    " \n",
    " \n",
    "@sio.on('connect')\n",
    "def connect(sid, environ):\n",
    "    print('Connected')\n",
    "    sendControl(0, 0)\n",
    " \n",
    " \n",
    "def sendControl(steering, throttle):\n",
    "    sio.emit('steer', data={\n",
    "        'steering_angle': steering.__str__(),\n",
    "        'throttle': throttle.__str__()\n",
    "    })\n",
    " \n",
    " \n",
    "if __name__ == '__main__':\n",
    "    model = load_model('model.h5')\n",
    "    app = socketio.Middleware(sio, app)\n",
    "    ### LISTEN TO PORT 4567\n",
    "    eventlet.wsgi.server(eventlet.listen(('', 4567)), app)"
   ]
  }
 ],
 "metadata": {
  "kernelspec": {
   "display_name": "Python 3",
   "language": "python",
   "name": "python3"
  },
  "language_info": {
   "codemirror_mode": {
    "name": "ipython",
    "version": 3
   },
   "file_extension": ".py",
   "mimetype": "text/x-python",
   "name": "python",
   "nbconvert_exporter": "python",
   "pygments_lexer": "ipython3",
   "version": "3.11.3"
  }
 },
 "nbformat": 4,
 "nbformat_minor": 2
}
